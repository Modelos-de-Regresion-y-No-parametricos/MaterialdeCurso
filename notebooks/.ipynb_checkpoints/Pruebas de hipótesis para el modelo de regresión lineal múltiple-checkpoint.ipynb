{
 "cells": [
  {
   "cell_type": "markdown",
   "metadata": {},
   "source": [
    "# Pruebas de hipótesis para el modelo de regresión lineal múltiple"
   ]
  },
  {
   "cell_type": "markdown",
   "metadata": {},
   "source": [
    "En esta sección suponemos que $\\pmb{y}\\sim N_n(\\pmb{X}\\pmb{\\beta},\\sigma^2\\pmb{I})$ con $\\pmb{X}$ $n\\times(k+1)$ dimensional de rango $k+1<n$."
   ]
  },
  {
   "cell_type": "markdown",
   "metadata": {},
   "source": [
    "## Prueba de regresión general"
   ]
  },
  {
   "cell_type": "markdown",
   "metadata": {},
   "source": [
    "Empezamos intereándonos en la hipótesis de que ninguno de los covariables $x$ considerados predicen a la variable de interés $y$ en el modelo de regresión lineal múltiple con errores normales. En términos matemáticos esto significa que $\\pmb{\\beta}_1=(\\beta_1, \\beta_2, \\ldots , \\beta_k )'=\\pmb{0}$. Obtenemos la prueba de hipótesis:\n",
    "\n",
    "\\begin{equation*}\n",
    "    H_0\\, : \\, \\pmb{\\beta}_1= \\pmb{0} \\;\\;\\;\\;\\; \\text {v.s.} \\;\\;\\;\\;\\; H_1\\, : \\, \\pmb{\\beta}_1 \\neq \\pmb{0} .\n",
    "\\end{equation*}"
   ]
  },
  {
   "cell_type": "markdown",
   "metadata": {},
   "source": [
    "En las notas correspondientes a las distribuciones no centrales se demostró que para $\\lambda_1 = \\frac{\\pmb{\\beta}_1'\\pmb{X}_c'\\pmb{X}_c\\pmb{\\beta}_1}{2\\sigma^2}$\n",
    "\n",
    "\\begin{equation*}\n",
    "F = \\frac{ SSR \\, /\\left( \\sigma^2 k \\right) }{ SSE \\, /\\left( \\sigma^2(n-k-1) \\right)  } \n",
    "= \\frac{ SSR\\, / k }{SSE\\, / (n-k-1)}\n",
    "\\sim F(k,n-k-1,\\lambda_1)\n",
    "\\end{equation*}\n",
    "**Teorema** \n",
    "\n",
    "Si $H_0$ es cierta, es decir $\\pmb{\\beta}_1=\\pmb{0}$, entonces $\\lambda_1=0$ y $F \\sim F(k,n-k-1) $; y si\n",
    "$H_0$ es falsa, es decir $\\pmb{\\beta}_1\\neq \\pmb{0}$, entonces $\\lambda_1=\\frac{\\pmb{\\beta}_1'\\pmb{X}_c'\\pmb{X}_c\\pmb{\\beta}_1}{2\\sigma^2}$ y $F \\sim F(k,n-k-1,\\lambda_1) $."
   ]
  },
  {
   "cell_type": "markdown",
   "metadata": {},
   "source": [
    "Observe que $\\lambda_1 = 0$ si y sólo si $\\pmb{\\beta}_1=\\pmb{0}$ dado que $\\pmb{X}_c' \\pmb{X}_c$ es positio definida. Podemos usar $F$ como cantida pivvotal para realizar la prueba de hipótesis como sigue:\n",
    "\n",
    "Si "
   ]
  },
  {
   "cell_type": "code",
   "execution_count": null,
   "metadata": {},
   "outputs": [],
   "source": []
  }
 ],
 "metadata": {
  "author": "mes(k+1)",
  "kernelspec": {
   "display_name": "Julia 1.2.0",
   "language": "julia",
   "name": "julia-1.2"
  },
  "language_info": {
   "file_extension": ".jl",
   "mimetype": "application/julia",
   "name": "julia",
   "version": "1.2.0"
  },
  "latex_envs": {
   "LaTeX_envs_menu_present": true,
   "autoclose": false,
   "autocomplete": true,
   "bibliofile": "biblio.bib",
   "cite_by": "apalike",
   "current_citInitial": 1,
   "eqLabelWithNumbers": false,
   "eqNumInitial": 1,
   "hotkeys": {
    "equation": "Ctrl-E",
    "itemize": "Ctrl-I"
   },
   "labels_anchors": false,
   "latex_user_defs": false,
   "report_style_numbering": false,
   "user_envs_cfg": false
  }
 },
 "nbformat": 4,
 "nbformat_minor": 2
}
