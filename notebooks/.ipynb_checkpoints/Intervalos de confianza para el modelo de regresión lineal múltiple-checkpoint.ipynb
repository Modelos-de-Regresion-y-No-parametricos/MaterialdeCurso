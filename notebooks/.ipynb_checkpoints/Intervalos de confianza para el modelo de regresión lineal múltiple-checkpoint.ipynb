{
 "cells": [
  {
   "cell_type": "markdown",
   "metadata": {},
   "source": [
    "# Intervalos de confianza para el modelo de regresión lineal múltple"
   ]
  },
  {
   "cell_type": "markdown",
   "metadata": {},
   "source": [
    "En los siguiente suponemos que $\\pmb{y}=N_n(\\pmb{X}\\pmb{\\beta},\\sigma^2 \\pmb{I})$."
   ]
  },
  {
   "cell_type": "markdown",
   "metadata": {},
   "source": [
    "## Regiones de confianza para $\\pmb{\\beta}$"
   ]
  },
  {
   "cell_type": "markdown",
   "metadata": {},
   "source": [
    "Consideramos el estadístico de prueba, para  $H_0 \\, : \\, \\pmb{C}\\pmb{\\beta}=\\pmb{t}$ como en el notebook de pruebas de hipótesis, $F = \\frac{ SSH\\, / q }{SSE\\, / (n-k-1)}\n",
    "\\sim F(q,n-k-1,\\lambda_1)$ con $(\\pmb{C} \\hat{\\pmb{\\beta}} - \\pmb{t})'\\left( \\pmb{C}\\left( \\pmb{X}'\\pmb{X}\\right)^{-1}\\pmb{C}' \\right)^{-1} (\\pmb{C} \\hat{\\pmb{\\beta}} - \\pmb{t})$ y $SSE=(\\pmb{y}-\\pmb{X}\\hat{\\pmb{\\beta}})'(\\pmb{y}-\\pmb{X}\\hat{\\pmb{\\beta}})$. Si tomamos $\\pmb{C}=\\pmb{I}$ y $\\pmb{t}=\\pmb{\\beta}$ obtenemos que\n",
    "\\begin{equation*}\n",
    "\\prob{ \\frac{ ( \\hat{\\pmb{\\beta}} - \\pmb{\\beta})'\\pmb{X}'\\pmb{X} ( \\hat{\\pmb{\\beta}} - \\pmb{\\beta})}{s^2(k+1)} \\leq F_{\\alpha,k+1,n-k-1}}=1-\\alpha\n",
    "\\end{equation*}\n",
    "con $s^2=SSE/(n-k-1)$. Obtenemos la región de confianza\n",
    "\\begin{equation*}\n",
    "\\left\\{ \\pmb{ \\beta}\\, ; \\, ( \\hat{\\pmb{\\beta}} - \\pmb{\\beta})'\\pmb{X}'\\pmb{X} ( \\hat{\\pmb{\\beta}} - \\pmb{\\beta}) \\leq (k+1)s^2F_{\\alpha,k+1,n-k-1} \\right\\}.\n",
    "\\end{equation*}\n",
    "Para $k=1$ está región puede ser evaluada en dos dimensiones como una elipse pero para $k>1$ la región elipsoidal es difícil de evaluar; por lo que alternativamente consideramos intervalos de confianza para los $\\beta_j's$ en $\\pmb{\\beta}$."
   ]
  },
  {
   "cell_type": "markdown",
   "metadata": {},
   "source": [
    "## Intervalos de confianza para $\\beta_j$"
   ]
  },
  {
   "cell_type": "markdown",
   "metadata": {},
   "source": [
    "Recordamos que al final del notebook sobre pruebas de hipótesis vimos que con $g_{j,j}$ el j-ésimo elemento diagonal de $\\left( \\pmb{X}'\\pmb{X} \\right)^{-1}$, entonces\n",
    "\\begin{equation*}\n",
    "\\frac{\\hat{\\beta}_j}{s\\sqrt{g_{j,j}}}\\sim t(n-k-1,\\beta_j/g_{j,j}).\n",
    "\\end{equation*}\n",
    "Por lo que \n",
    "\\begin{equation*}\n",
    "t_j = \\frac{\\left( \\hat{\\beta}_j -\\beta_j \\right)}{s\\sqrt{g_{j,j}}}\\sim t(n-k-1).\n",
    "\\end{equation*}\n",
    "De lo cual obtenemos que\n",
    "\\begin{equation*}\n",
    "\\prob{-t_{\\alpha/2,n-k-1} \\leq \\frac{\\left( \\hat{\\beta}_j -\\beta_j \\right)}{s\\sqrt{g_{j,j}}} \\leq t_{\\alpha/2,n-k-1} }= 1-\\alpha,\n",
    "\\end{equation*}\n",
    "equivalentemente\n",
    "\\begin{equation*}\n",
    "\\prob{\\hat{\\beta}_j -t_{\\alpha/2,n-k-1}s\\sqrt{g_{j,j}} \\leq  \\beta_j  \\leq \\hat{\\beta}_j + t_{\\alpha/2,n-k-1}s\\sqrt{g_{j,j}} }= 1-\\alpha,\n",
    "\\end{equation*}\n",
    "Por lo que obtenemos el intervalo de confianza al nivel $1-\\alpha$ para $\\beta_j$\n",
    "\n",
    "\\begin{equation*}\n",
    "\\left(\\hat{\\beta}_j -t_{\\alpha/2,n-k-1}s\\sqrt{g_{j,j}} \\, , \\, \\hat{\\beta}_j +t_{\\alpha/2,n-k-1}s\\sqrt{g_{j,j}} \\right)\n",
    "\\end{equation*}"
   ]
  },
  {
   "cell_type": "markdown",
   "metadata": {},
   "source": [
    "## Intervalos de confianza para $\\pmb{\\alpha}'\\pmb{\\beta}$"
   ]
  },
  {
   "cell_type": "markdown",
   "metadata": {},
   "source": [
    "En el notebook para pruebas de hipotesis vimos que\n",
    "\\begin{equation*}\n",
    "\\frac{ \\left( \\pmb{a}'\\hat{\\pmb{\\beta}} \\right)^2 }{s^2 \\pmb{a}'\\left( \\pmb{X}'\\pmb{X} \\right)^{-1} \\pmb{a}}\n",
    "\\sim F\\left(1,n-k-1, \\frac{ \\left( \\pmb{a}'\\pmb{\\beta} \\right)^2 }{2\\sigma^2 \\pmb{a}'\\left( \\pmb{X}'\\pmb{X} \\right)^{-1} \\pmb{a}}  \\right)\n",
    "\\end{equation*}"
   ]
  },
  {
   "cell_type": "markdown",
   "metadata": {},
   "source": [
    "Por lo que\n",
    "\\begin{equation*}\n",
    "F= \\frac{ \\left( \\pmb{a}'\\hat{\\pmb{\\beta}} - \\pmb{a}'\\pmb{\\beta} \\right)^2 }{s^2 \\pmb{a}'\\left( \\pmb{X}'\\pmb{X} \\right)^{-1} \\pmb{a}}\n",
    "\\sim F\\left(1,n-k-1 \\right)\n",
    "\\end{equation*}\n",
    "y al tener $1$ y $n-k-1$ grados de libertad podemos considerar alternativamente\n",
    "\\begin{equation*}\n",
    "t = \\frac{ \\pmb{a}'\\hat{\\pmb{\\beta}} - \\pmb{a}'\\pmb{\\beta} }{s \\sqrt{ \\pmb{a}'\\left( \\pmb{X}'\\pmb{X} \\right)^{-1} \\pmb{a}}}\n",
    "\\sim t(n-k-1).\n",
    "\\end{equation*}\n",
    "De lo cual, procediendo como en el caso anterior, obtenemos el intervalo de confianza al nivel $1-\\alpha$ para $\\pmb{\\alpha}'\\pmb{\\beta}$\n",
    "\n",
    "\\begin{equation*}\n",
    "\\left( \\pmb{\\alpha}'\\hat{\\pmb{\\beta}} - t_{\\alpha/2,n-k-1}s\\sqrt{ \\pmb{a}'\\left( \\pmb{X}'\\pmb{X} \\right)^{-1} \\pmb{a}} \\, , \\, \\pmb{\\alpha}'\\hat{\\pmb{\\beta}} + t_{\\alpha/2,n-k-1}s \\sqrt{ \\pmb{a}'\\left( \\pmb{X}'\\pmb{X} \\right)^{-1} \\pmb{a}} \\right)\n",
    "\\end{equation*}"
   ]
  },
  {
   "cell_type": "markdown",
   "metadata": {},
   "source": [
    "## Intervalos de confianza para $\\esp{y}$"
   ]
  },
  {
   "cell_type": "markdown",
   "metadata": {},
   "source": [
    "Consideramos $\\pmb{x}_0=(1,x_{0,1},\\ldots , x_{0,k})$ el vector de covariables asociada a una nueva observación $y_0= \\pmb{x}_0' \\pmb{\\beta}+\\epsilon_0$. Queremos encontrar un intervalo de confianza para $\\esp{y_0}=\\pmb{x}_0' \\pmb{\\beta}$. Tenemos que $\\pmb{x}_0' \\pmb{\\beta} $ es de la forma considerada anteriormente por lo que el intervalo de confianza al nivel $1-\\alpha$ para $\\esp{y_0}$ está dado por\n",
    "\n",
    "\\begin{equation*}\n",
    "\\left( \\pmb{x}_0'\\hat{\\pmb{\\beta}} - t_{\\alpha/2,n-k-1}s\\sqrt{ \\pmb{x}_0'\\left( \\pmb{X}'\\pmb{X} \\right)^{-1} \\pmb{x}_0 } \\, , \\, \\pmb{x}_0'\\hat{\\pmb{\\beta}} + t_{\\alpha/2,n-k-1}s \\sqrt{ \\pmb{x}_0'\\left( \\pmb{X}'\\pmb{X} \\right)^{-1} \\pmb{x}_0} \\right)\n",
    "\\end{equation*}"
   ]
  },
  {
   "cell_type": "markdown",
   "metadata": {},
   "source": [
    "Podemos expresar lo anterior en términos del modelo centrado:\n",
    "\n",
    "\\begin{align*}\n",
    "&\\esp{y_0} = \\alpha + \\pmb{\\beta}_1'(\\pmb{x}_{0_1}- \\bar{\\pmb{x}}_1)\n",
    "\\\\\n",
    "&\\hat{\\esp{y_0}} = \\bar{y} + \\hat{\\pmb{\\beta}}_1'(\\pmb{x}_{0_1}- \\bar{\\pmb{x}}_1)\n",
    "\\\\\n",
    "&\\left( \\bar{y} + \\hat{\\pmb{\\beta}}_1'(\\pmb{x}_{0_1} - \\bar{\\pmb{x}}_1) - t_{\\alpha/2,n-k-1}s\\sqrt{ \n",
    "\\frac{1}{n} + (\\pmb{x}_{0_1}- \\bar{\\pmb{x}}_1)'\\left( \\pmb{X}_c'\\pmb{X}_c \\right)^{-1} }  \\, , \\, \n",
    "\\bar{y} + \\hat{\\pmb{\\beta}}_1'(\\pmb{x}_{0_1} + \\bar{\\pmb{x}}_1) - t_{\\alpha/2,n-k-1}s\\sqrt{ \n",
    "\\frac{1}{n} + (\\pmb{x}_{0_1}- \\bar{\\pmb{x}}_1)'\\left( \\pmb{X}_c'\\pmb{X}_c \\right)^{-1} }\n",
    "\\right)\n",
    "\\end{align*}"
   ]
  },
  {
   "cell_type": "markdown",
   "metadata": {},
   "source": [
    "En el caso de regresión lineal simple tenemos\n",
    "\n",
    "\\begin{align*}\n",
    "&\\esp{y_0} = \\beta_0 + \\beta_1 x_0\n",
    "\\\\\n",
    "&\\hat{\\esp{y_0}} = \\hat{ \\beta }_0 + \\hat{ \\beta_1 } x_0\n",
    "\\\\\n",
    "&\\left( \\hat{ \\beta }_0 + \\hat{ \\beta_1 } x_0  - t_{\\alpha/2,n-2}s\\sqrt{ \n",
    "\\frac{1}{n} + \\frac{ (x_0 - \\bar{x})^2 }{ \\sum_{i=1}^n (x_i - \\bar{x})^2 } }  \\, , \\, \n",
    "\\hat{ \\beta }_0 + \\hat{ \\beta_1 } x_0  + t_{\\alpha/2,n-2}s\\sqrt{ \n",
    "\\frac{1}{n} + \\frac{ (x_0 - \\bar{x})^2 }{ \\sum_{i=1}^n (x_i - \\bar{x})^2 } }\n",
    "\\right)\n",
    "\\end{align*}"
   ]
  },
  {
   "cell_type": "markdown",
   "metadata": {},
   "source": [
    "## Intervalos de predicción"
   ]
  },
  {
   "cell_type": "markdown",
   "metadata": {},
   "source": [
    "Anteriormente calculamos intervalos de confianza para el valor esperado de una observación nueva $y_0$ con covariable $x_0$, esto es distinto a querer calcular un intervalo de confianza para la cantidad aleatoria $y_0$ asociada a un covariable $x_0$. Ahora nos interesamos en esta última cuestión, la cual involucra un problema de predicción. Ya que $y_0$ es una variable aleatoria y no un parámetro del modelo, hablamos de intervalos de predicción en vez de intervalos de confianza."
   ]
  },
  {
   "cell_type": "markdown",
   "metadata": {},
   "source": [
    "Otra vez podemos considerar el estadístico $\\hat{y}_0=\\pmb{x}_0'\\hat{\\pmb{\\beta}}$, y un estadístico de prueba basado en $y_0-\\hat{y}_0$. Observamos que $y_0$ y $\\hat{y}_0$ se distribuyen normal, $\\esp{$y_0-\\hat{y}_0}=0$ y \n",
    "\\begin{align*}\n",
    "\\text{ var} \\left( y_0-\\hat{y}_0\\right)\n",
    "&=\n",
    "\\text{ var} \\left(\\pmb{x}_0'\\pmb{\\beta}+\\epsilon -\\pmb{x}_0'\\hat{\\pmb{\\beta}}\\right)\n",
    "\\\\ & =\n",
    "\\text{ var} \\left( \\epsilon \\right) + \\text{ var} \\left(\\pmb{x}_0'\\hat{\\pmb{\\beta}}\\right)\n",
    "\\\\ & = \\sigma^2\n",
    "+ \\text{ var} \\left( \\pmb{x}_0' \\left( \\pmb{X}'\\pmb{X}\\right)^{-1} \\pmb{X}' \\pmb{y} \\right)\n",
    "\\\\ & =  \\sigma^2\n",
    "+ \\sigma^2 \\pmb{x}_0' \\left( \\pmb{X}'\\pmb{X}\\right)^{-1} \\pmb{X}' \\pmb{X} \\left( \\pmb{X}\\right)^{-1} \\pmb{x}_0\n",
    "\\\\ & =  \\sigma^2\\left( 1 + \\pmb{x}_0' \\left( \\pmb{X}'\\pmb{X}\\right)^{-1}\\pmb{x}_0 \\right)\n",
    "\\end{align*}"
   ]
  },
  {
   "cell_type": "markdown",
   "metadata": {},
   "source": [
    "Por tener observaciones i.i.d. en el modelo sabemos que $SSE$ es independiente de $y_0$ y vimos que $SSE$ es independiente de $\\hat{\\pmb{\\beta}}$, vea por ejemplo el teorema de pruba de hipóitesis más general en el notebook anterior, por lo que $s^2$  es independiente de $\\left( y_0-\\hat{y}_0\\right)$ y podemos considerar el siguiente estadístico de prueba con distribución t:"
   ]
  },
  {
   "cell_type": "markdown",
   "metadata": {},
   "source": [
    "\\begin{equation*}\n",
    "\n",
    "\\end{equation*}"
   ]
  }
 ],
 "metadata": {
  "kernelspec": {
   "display_name": "Julia 1.2.0",
   "language": "julia",
   "name": "julia-1.2"
  },
  "language_info": {
   "file_extension": ".jl",
   "mimetype": "application/julia",
   "name": "julia",
   "version": "1.2.0"
  },
  "latex_envs": {
   "LaTeX_envs_menu_present": true,
   "autoclose": false,
   "autocomplete": true,
   "bibliofile": "biblio.bib",
   "cite_by": "apalike",
   "current_citInitial": 1,
   "eqLabelWithNumbers": false,
   "eqNumInitial": 1,
   "hotkeys": {
    "equation": "Ctrl-E",
    "itemize": "Ctrl-I"
   },
   "labels_anchors": false,
   "latex_user_defs": false,
   "report_style_numbering": false,
   "user_envs_cfg": false
  }
 },
 "nbformat": 4,
 "nbformat_minor": 2
}
