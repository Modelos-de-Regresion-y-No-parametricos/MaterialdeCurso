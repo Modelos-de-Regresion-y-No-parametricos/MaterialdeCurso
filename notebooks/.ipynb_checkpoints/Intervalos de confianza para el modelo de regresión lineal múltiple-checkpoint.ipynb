{
 "cells": [
  {
   "cell_type": "markdown",
   "metadata": {},
   "source": [
    "# Intervalos de confianza para el modelo de regresión lineal múltple"
   ]
  },
  {
   "cell_type": "markdown",
   "metadata": {},
   "source": [
    "En los siguiente suponemos que $\\pmb{y}=N_n(\\pmb{X}\\pmb{\\beta},\\sigma^2 \\pmb{I})$."
   ]
  },
  {
   "cell_type": "markdown",
   "metadata": {},
   "source": [
    "## Regiones de confianza para $\\pmb{\\beta}$"
   ]
  },
  {
   "cell_type": "markdown",
   "metadata": {},
   "source": [
    "Consideramos el estadístico de prueba, para  $H_0 \\, : \\, \\pmb{C}\\pmb{\\beta}=\\pmb{t}$ como en el notebook de pruebas de hipótesis, $F = \\frac{ SSH\\, / q }{SSE\\, / (n-k-1)}\n",
    "\\sim F(q,n-k-1,\\lambda_1)$ con $(\\pmb{C} \\hat{\\pmb{\\beta}} - \\pmb{t})'\\left( \\pmb{C}\\left( \\pmb{X}'\\pmb{X}\\right)^{-1}\\pmb{C}' \\right)^{-1} (\\pmb{C} \\hat{\\pmb{\\beta}} - \\pmb{t})$ y $SSE=(\\pmb{y}-\\pmb{X}\\hat{\\pmb{\\beta}})'(\\pmb{y}-\\pmb{X}\\hat{\\pmb{\\beta}})$. Si tomamos $\\pmb{C}=\\pmb{I}$ y $\\pmb{t}=\\pmb{\\beta}$ obtenemos que\n",
    "\\begin{equation*}\n",
    "\\prob{ \\frac{ ( \\hat{\\pmb{\\beta}} - \\pmb{\\beta})'\\pmb{X}'\\pmb{X} ( \\hat{\\pmb{\\beta}} - \\pmb{\\beta})}{s^2(k+1)} \\leq F_{\\alpha,k+1,n-k-1}}=1-\\alpha\n",
    "\\end{equation*}\n",
    "con $s^2=SSE/(n-k-1)$."
   ]
  },
  {
   "cell_type": "code",
   "execution_count": null,
   "metadata": {},
   "outputs": [],
   "source": []
  }
 ],
 "metadata": {
  "kernelspec": {
   "display_name": "Julia 1.2.0",
   "language": "julia",
   "name": "julia-1.2"
  },
  "language_info": {
   "file_extension": ".jl",
   "mimetype": "application/julia",
   "name": "julia",
   "version": "1.2.0"
  },
  "latex_envs": {
   "LaTeX_envs_menu_present": true,
   "autoclose": false,
   "autocomplete": true,
   "bibliofile": "biblio.bib",
   "cite_by": "apalike",
   "current_citInitial": 1,
   "eqLabelWithNumbers": false,
   "eqNumInitial": 1,
   "hotkeys": {
    "equation": "Ctrl-E",
    "itemize": "Ctrl-I"
   },
   "labels_anchors": false,
   "latex_user_defs": false,
   "report_style_numbering": false,
   "user_envs_cfg": false
  }
 },
 "nbformat": 4,
 "nbformat_minor": 2
}
