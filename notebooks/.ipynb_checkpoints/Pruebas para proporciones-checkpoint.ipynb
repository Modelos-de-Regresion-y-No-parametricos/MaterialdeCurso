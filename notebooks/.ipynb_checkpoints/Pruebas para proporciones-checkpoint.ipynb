{
 "cells": [
  {
   "cell_type": "markdown",
   "metadata": {},
   "source": [
    "# Prueba binomial"
   ]
  },
  {
   "cell_type": "markdown",
   "metadata": {},
   "source": [
    "Consideramos observaciones provenientes de una distribución binomial $Binom(n,p)$, donde usamos la interpretación de que se realizan $n$ experimentos los cuales pueden ser exitosos o no exitososo siendo $p$ la probabilidad de éxito. Estás observaciones pueden estar dadas por \n",
    "\n",
    "\\begin{equation*}\n",
    "\\pmb{X}=\\left( \\#\\left\\{ \\text{Observaciones exitosas}  \\right\\},\\, \\#\\left\\{ \\text{Observaciones no exitosas}  \\right\\} \\right)\n",
    "\\end{equation*}\n",
    "o bien por\n",
    "\\begin{equation*}\n",
    "n & = \\#\\left\\{ \\text{Experimentos observados}  \\right\\}\n",
    "\\\\\n",
    "X & =\\#\\left\\{ \\text{Observaciones exitosas}  \\right\\}\n",
    "\\end{equation*}"
   ]
  },
  {
   "cell_type": "code",
   "execution_count": null,
   "metadata": {},
   "outputs": [],
   "source": []
  }
 ],
 "metadata": {
  "kernelspec": {
   "display_name": "R",
   "language": "R",
   "name": "ir"
  },
  "language_info": {
   "codemirror_mode": "r",
   "file_extension": ".r",
   "mimetype": "text/x-r-source",
   "name": "R",
   "pygments_lexer": "r",
   "version": "3.6.3"
  },
  "latex_envs": {
   "LaTeX_envs_menu_present": true,
   "autoclose": false,
   "autocomplete": true,
   "bibliofile": "biblio.bib",
   "cite_by": "apalike",
   "current_citInitial": 1,
   "eqLabelWithNumbers": false,
   "eqNumInitial": 1,
   "hotkeys": {
    "equation": "Ctrl-E",
    "itemize": "Ctrl-I"
   },
   "labels_anchors": false,
   "latex_user_defs": false,
   "report_style_numbering": false,
   "user_envs_cfg": false
  }
 },
 "nbformat": 4,
 "nbformat_minor": 2
}
