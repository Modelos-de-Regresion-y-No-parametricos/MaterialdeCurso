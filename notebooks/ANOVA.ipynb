{
 "cells": [
  {
   "cell_type": "markdown",
   "metadata": {},
   "source": [
    "# Modelos ANOVA"
   ]
  },
  {
   "cell_type": "markdown",
   "metadata": {},
   "source": [
    "Los modelos ANOVA, llamados así por analysis-of-varaince (análisis de varianza), fueron creados para el análisis de experimentos biológicos. En este contexto, supongamos que un investigador aplica varios tratamientos distintos a unidades experimentales elegidas aleatoriamente, y posteriormente desea comparar las medias de cierta respuesta asociadas a los distintos tratamientos, más adelante veremos varios ejemplos de esta situación. En el modelo ANOVA hacemos uso de modelos lineales para realizar la comparación de estas medias. Este modelo frecuentemente es expresado con más parámetros de los que pueden ser estimados, lo cual resulta en una matriz $\\pmb{X}'\\pmb{X}$ que no puede invertirse, por lo que alternativas a los métodos de estimación y pruebas basadas en mínimos cuadrados deben ser tratadas.\n",
    "Nos enfocaremos en modelos balanceados, donde se tiene el mismo número de observaciones para cada tratamiento."
   ]
  },
  {
   "cell_type": "markdown",
   "metadata": {},
   "source": [
    "## ANOVA de una vía"
   ]
  },
  {
   "cell_type": "markdown",
   "metadata": {},
   "source": [
    "Supongamos que un investigador a desarrollado dos químicos aditivos para incrementar el millaje de la gasolina. Para formular el modelo podemos plantear que que sin aditivos un galón de gasolina brinda un millaje promedio de $\\mu$ kilómetros. Sii el aditivo 1 es añadido, entonces el millaje promedio incrementa $\\tau_1$ kilómetros por galón; y si el aditivo 2 es añadido, el millaje promedio aumenta $\\tau_2$ kilómetros por galón. Si $y_1$ denota el kilometraje por galón asociado a un tanque de gasolina con el aditivo químico 1, y similarmente $y_2$ para el aditivo 2; entonces el modelo puede ser epresado como sigue:\n",
    "\n",
    "\\begin{align*}\n",
    "y_1 = \\mu + \\tau_1 + \\epsilon_1, \\;  \\quad \\quad \\; y_2 = \\mu + \\tau_2 + \\epsilon_2\n",
    "\\end{align*}\n",
    "\n",
    "Con $\\epsilon_1$ y $\\epsilon_2$ errores gaussianos. En este conteto es natural querer realizar estimaciones de los parámetros $\\mu$, $\\tau_1$ y $\\tau_2$, y pruebas de hipótesis como $H_0 \\, : \\, \\tau_1 = \\tau_2$."
   ]
  },
  {
   "cell_type": "markdown",
   "metadata": {},
   "source": [
    "Supongamos que el investigador diseña un experimento en el cual se observa el kilometraje por galón para 3 tanques con el aditivo 1 y 3 tanques con el aditivo 2. Esto se puede escribir como\n",
    "\\begin{align*}\n",
    "& y_{1,1} = \\mu + \\tau_1 + \\epsilon_{1,1}, \\; \\; \n",
    "& y_{1,2} = \\mu + \\tau_1 + \\epsilon_{1,2}, \\; \\;\n",
    "& y_{1,3} = \\mu + \\tau_1 + \\epsilon_{1,3}, \\; \\;\n",
    "\\\\\n",
    "& y_{2,1} = \\mu + \\tau_2 + \\epsilon_{2,1}, \\; \\; \n",
    "& y_{2,2} = \\mu + \\tau_2 + \\epsilon_{2,2}, \\; \\;\n",
    "& y_{2,3} = \\mu + \\tau_2 + \\epsilon_{2,3}, \\; \\;\n",
    "\\end{align*}\n",
    "o alternativamente escrito como\n",
    "\\begin{align*}\n",
    "     y_{i,j} = \\mu + \\tau_i + \\epsilon_{i,j}, \\; \\quad \\quad \\; i=1,2; \\; j=1,2,3 \n",
    "\\end{align*}\n",
    "En forma matricial escribimos esto como\n",
    "\\begin{align*}\n",
    "\\left(\\begin{matrix} \n",
    "y_{1,1} \\\\ \n",
    "y_{1,2} \\\\ \n",
    "y_{1,3} \\\\ \n",
    "y_{2,1} \\\\ \n",
    "y_{2,2} \\\\ \n",
    "y_{2,3} \n",
    "\\end{matrix} \\right) = \n",
    "\\left( \\begin{matrix}\n",
    "1 & 1 & 0 \\\\\n",
    "1 & 1 & 0 \\\\\n",
    "1 & 1 & 0 \\\\\n",
    "1 & 0 & 1 \\\\\n",
    "1 & 0 & 1 \\\\\n",
    "1 & 0 & 1\n",
    "\\end{matrix} \\right)\n",
    "\\left( \\begin{matrix}\n",
    "\\mu \\\\ \\tau_1 \\\\ \\tau_2\n",
    "\\end{matrix}\\right)\n",
    "+\n",
    "\\left(\\begin{matrix} \n",
    "\\epsilon_{1,1} \\\\ \n",
    "\\epsilon_{1,2} \\\\ \n",
    "\\epsilon_{1,3} \\\\ \n",
    "\\epsilon_{2,1} \\\\ \n",
    "\\epsilon_{2,2} \\\\ \n",
    "\\epsilon_{2,3} \n",
    "\\end{matrix} \\right) \n",
    "\\end{align*}\n",
    "o alternativamente escrito como\n",
    "\\begin{align*}\n",
    "     \\pmb{y} = \\pmb{X}\\pmb{\\beta} +\\pmb{\\epsilon}\n",
    "\\end{align*}"
   ]
  },
  {
   "cell_type": "markdown",
   "metadata": {},
   "source": [
    "Observamos que $\\pmb{X}'\\pmb{X}$ no es invertible por lo que el estimador de mínimos cuadrados no existe para este modelo."
   ]
  },
  {
   "cell_type": "code",
   "execution_count": 1,
   "metadata": {},
   "outputs": [
    {
     "data": {
      "text/plain": [
       "3×3 Array{Float64,2}:\n",
       " 6.0  3.0  3.0\n",
       " 3.0  3.0  0.0\n",
       " 3.0  0.0  3.0"
      ]
     },
     "execution_count": 1,
     "metadata": {},
     "output_type": "execute_result"
    }
   ],
   "source": [
    "X = zeros(6,3) # Matriz de ceros para construir X\n",
    "for i in 1:3\n",
    "    X[i,:] = [ 1, 1, 0 ] # renglones asociados al aditivo 1\n",
    "end\n",
    "for i in 4:6\n",
    "    X[i,:] = [ 1, 0, 1 ] # renglones asociados al aditivo 2\n",
    "end\n",
    "X'*X"
   ]
  },
  {
   "cell_type": "markdown",
   "metadata": {},
   "source": [
    "La primer columna de $\\pmb{X}'\\pmb{X}$ menos la segunda resulta en la tercera columna por lo que la matrix no es invertible."
   ]
  },
  {
   "cell_type": "code",
   "execution_count": 2,
   "metadata": {},
   "outputs": [
    {
     "ename": "LinearAlgebra.SingularException",
     "evalue": "LinearAlgebra.SingularException(3)",
     "output_type": "error",
     "traceback": [
      "LinearAlgebra.SingularException(3)",
      "",
      "Stacktrace:",
      " [1] checknonsingular at /buildworker/worker/package_linux64/build/usr/share/julia/stdlib/v1.2/LinearAlgebra/src/factorization.jl:12 [inlined]",
      " [2] #lu!#118(::Bool, ::typeof(LinearAlgebra.lu!), ::Array{Float64,2}, ::Val{true}) at /buildworker/worker/package_linux64/build/usr/share/julia/stdlib/v1.2/LinearAlgebra/src/lu.jl:41",
      " [3] #lu! at ./none:0 [inlined]",
      " [4] #lu#122 at /buildworker/worker/package_linux64/build/usr/share/julia/stdlib/v1.2/LinearAlgebra/src/lu.jl:142 [inlined]",
      " [5] lu at /buildworker/worker/package_linux64/build/usr/share/julia/stdlib/v1.2/LinearAlgebra/src/lu.jl:142 [inlined] (repeats 2 times)",
      " [6] inv(::Array{Float64,2}) at /buildworker/worker/package_linux64/build/usr/share/julia/stdlib/v1.2/LinearAlgebra/src/dense.jl:730",
      " [7] literal_pow(::typeof(^), ::Array{Float64,2}, ::Val{-1}) at /buildworker/worker/package_linux64/build/usr/share/julia/stdlib/v1.2/LinearAlgebra/src/generic.jl:925",
      " [8] top-level scope at In[2]:1"
     ]
    }
   ],
   "source": [
    "(X'*X)^(-1)"
   ]
  },
  {
   "cell_type": "markdown",
   "metadata": {},
   "source": [
    "Observamos que el modelo tiene 3 parámetros a estimar pero $\\text{rango}(\\pmb{X})=2$ por lo que decimos que el modelo está sobreparametrizado. Esto se puede ilustrar con el siguiente ejemplo. Si $\\mu = 15$, $\\tau_1 = 1$ y $\\tau_2 = 3$ obtenemos\n",
    "\n",
    "\\begin{align*}\n",
    "y_{1,j} &= 15 + 1 + \\epsilon_{1,j} = 16 + \\epsilon_{1,j},\\; \\; j=1,2,3\n",
    "\\\\\n",
    "y_{2,j} &= 15 + 3 + \\epsilon_{2,j} = 18 + \\epsilon_{2,j},\\; \\; j=1,2,3\n",
    "\\end{align*}\n",
    "es equivalente a si $\\mu = 10$, $\\tau_1 = 6$ y $\\tau_2 = 8$ con lo que\n",
    "\n",
    "\\begin{align*}\n",
    "y_{1,j} &= 10 + 6 + \\epsilon_{1,j} = 16 + \\epsilon_{1,j},\\; \\; j=1,2,3\n",
    "\\\\\n",
    "y_{2,j} &= 10 + 8 + \\epsilon_{2,j} = 18 + \\epsilon_{2,j},\\; \\; j=1,2,3\n",
    "\\end{align*}\n",
    "y  claramente hay una infinidad de valores para $\\mu$, $\\tau_1$ y $\\tau_2$ que deterrminan el mismo modelo."
   ]
  },
  {
   "cell_type": "markdown",
   "metadata": {},
   "source": [
    "Veremos dos alternativas para tratar el modelo ANOVA, pero primero discutiremos el modelo ANOVA de dos vías."
   ]
  },
  {
   "cell_type": "markdown",
   "metadata": {},
   "source": [
    "## ANOVA de dos vías"
   ]
  },
  {
   "cell_type": "markdown",
   "metadata": {},
   "source": [
    "Supongamos que un investigador quiere investigar el efecto de dos vitáminas y de dos mecanismo de administración con respecto a la ganancia en peso para pollos. Sean $\\alpha_1$, $\\alpha_2$ los efectos en la ganacia de peso para pollos asociados a las vitaminas y $\\beta_1$, $\\beta_2$ los efectos relacionados a los mecanismo de administracion. Entonces se puede proponer el siguiente modelo donde los efectos son aditivos\n",
    "\\begin{align*}\n",
    "y_{1,1} &= \\mu + \\alpha_1 + \\beta_1 + \\epsilon_{1,1}, \\;  \\quad \\quad \\; y_{1,2} &= \\mu + \\alpha_1 + \\beta_2 + \\epsilon_{1,2}\n",
    "\\\\\n",
    "y_{2,1} &= \\mu + \\alpha_2 + \\beta_1 + \\epsilon_{2,1}, \\;  \\quad \\quad \\; y_{2,2} &= \\mu + \\alpha_2 + \\beta_2 + \\epsilon_{2,2}\n",
    "\\end{align*}\n",
    "Para simplificar la exposición, suponemos que el investigador observa una observación de cada combinación vitamina - administración. En forma matricial esto se expresa como\n",
    "\\begin{align*}\n",
    "\\left(\\begin{matrix} \n",
    "y_{1,1} \\\\ \n",
    "y_{1,2} \\\\ \n",
    "y_{2,1} \\\\ \n",
    "y_{2,2}\n",
    "\\end{matrix} \\right) = \n",
    "\\left( \\begin{matrix}\n",
    "1 & 1 & 0 & 1 & 0 \\\\\n",
    "1 & 1 & 0 & 0 & 1 \\\\\n",
    "1 & 0 & 1 & 1 & 0 \\\\\n",
    "1 & 0 & 1 & 0 & 1\n",
    "\\end{matrix} \\right)\n",
    "\\left( \\begin{matrix}\n",
    "\\mu \\\\ \\alpha_1 \\\\ \\alpha_2 \\\\ \\beta_1 \\\\ \\beta_2\n",
    "\\end{matrix}\\right)\n",
    "+\n",
    "\\left(\\begin{matrix} \n",
    "\\epsilon_{1,1} \\\\ \n",
    "\\epsilon_{1,2} \\\\ \n",
    "\\epsilon_{2,1} \\\\ \n",
    "\\epsilon_{2,2}\n",
    "\\end{matrix} \\right) \n",
    "\\end{align*}\n",
    "o alternativamente\n",
    "\\begin{equation*}\n",
    "\\pmb{y} = \\pmb{X}\\pmb{\\beta} + \\pmb{\\epsilon}\n",
    "\\end{equation*}\n",
    "Observamos que  $\\pmb{X}'\\pmb{X}$  no es ivertible"
   ]
  },
  {
   "cell_type": "code",
   "execution_count": 6,
   "metadata": {},
   "outputs": [
    {
     "data": {
      "text/plain": [
       "4×5 Array{Int64,2}:\n",
       " 1  1  0  1  0\n",
       " 1  1  0  0  1\n",
       " 1  0  1  1  0\n",
       " 1  0  1  0  1"
      ]
     },
     "execution_count": 6,
     "metadata": {},
     "output_type": "execute_result"
    }
   ],
   "source": [
    "X = [ [1,1,1,1] [1,1,0,0] [0,0,1,1] [1,0,1,0] [0,1,0,1] ]"
   ]
  },
  {
   "cell_type": "code",
   "execution_count": 7,
   "metadata": {},
   "outputs": [
    {
     "data": {
      "text/plain": [
       "5×5 Array{Int64,2}:\n",
       " 4  2  2  2  2\n",
       " 2  2  0  1  1\n",
       " 2  0  2  1  1\n",
       " 2  1  1  2  0\n",
       " 2  1  1  0  2"
      ]
     },
     "execution_count": 7,
     "metadata": {},
     "output_type": "execute_result"
    }
   ],
   "source": [
    "X' * X"
   ]
  },
  {
   "cell_type": "markdown",
   "metadata": {},
   "source": [
    "La primera columna de $\\pmb{X}'\\pmb{X}$ menos la segunda resulta en la tercera columna por lo que la matriz no es invertible."
   ]
  },
  {
   "cell_type": "markdown",
   "metadata": {},
   "source": [
    "## Reparametrización"
   ]
  },
  {
   "cell_type": "markdown",
   "metadata": {},
   "source": [
    "Veremos que si tranformamos el modelo podemos llegar a uno donde el estimador usual de mínimos cuadrados para el modelo de regresión lineal múltiple puede ser calculado. Transformamos el modelo $\\pmb{y} = \\pmb{X}\\pmb{\\beta} + \\pmb{\\epsilon}$ donde $\\pmb{X}$ es $n \\times p$ dimensional con rango $k<p\\leq n$ en un modelo $\\pmb{y} = \\pmb{Z}\\pmb{\\gamma} + \\pmb{\\epsilon}$ con $\\pmb{Z}$ $n \\times k$ dimensional con rango $k$ y $\\pmb{\\gamma}= \\pmb{U}\\pmb{\\beta}$ con los renglones de $\\pmb{U}$ linealmente independientes. Entonces \n",
    "\n",
    "\\begin{equation*}\n",
    "\\pmb{Z}\\pmb{\\gamma} = \\pmb{Z}\\pmb{U}\\pmb{\\beta}=\\pmb{X}\\pmb{\\beta}\n",
    "\\end{equation*}\n",
    "por lo que $\\pmb{X}=\\pmb{Z}\\pmb{U}$. Dado que $\\pmb{U}$ es $k\\times p$ dimensional con rango $k<p$, la matriz $\\pmb{U}'\\pmb{U}$, análogamente a cuando discutíamos el modelo de regresión lineal múltiple, es no singular por lo que\n",
    "\\begin{equation*}\n",
    "\\pmb{Z}\\pmb{U}=\\pmb{X}\\implies \\pmb{Z}\\pmb{U}\\pmb{U}' = \\pmb{X}\\pmb{U}' \\implies \\pmb{Z} = \\pmb{X}\\pmb{U}'(\\pmb{U}\n",
    "\\pmb{U}')^{-1}\n",
    "\\end{equation*}"
   ]
  },
  {
   "cell_type": "markdown",
   "metadata": {},
   "source": [
    "Observamos que $\\pmb{Z}$ es de rango completo ya que $\\text{rango}(\\pmb{Z})\\geq \\text{rango}(\\pmb{ZU})=\\text{rango}(\\pmb{X})=k $ y $\\text{rango}(Z)\\leq \\min \\{ n,k \\}=k $ por lo que $\\text{\\pmb{Z}} =k$ y podemos usar el estimador de mínimos cuadrados $\\hat{\\pmb{\\gamma}}= (\\pmb{Z}'\\pmb{Z})^{-1}\\pmb{Z}'\\pmb{y}$."
   ]
  },
  {
   "cell_type": "markdown",
   "metadata": {},
   "source": [
    "## Condiciones adicionales"
   ]
  },
  {
   "cell_type": "markdown",
   "metadata": {},
   "source": [
    "Consideramos el modelo $\\pmb{y} = \\pmb{X}\\pmb{\\beta} + \\pmb{\\epsilon}$ donde $\\pmb{X}$ es $n \\times p$ dimensional con rango $k<p\\leq n$. La deficiencia en el rango de $\\pmb{X}$ es de $p-k$ por lo que consideramos condiciones adicionales dadas por $\\pmb{T}\\pmb{\\beta}=\\pmb{0}$ con $\\pmb{T}$ $(p-k)\\times p$ dimensional tal que los correspondientes renglones son linealmente independientes entre si y entre los renglones de $\\pmb{X}$. Entonces podemos considerar las ecuaciones\n",
    "\\begin{align*}\n",
    "\\pmb{y} &= \\pmb{X}\\pmb{\\beta} + \\pmb{\\epsilon}\n",
    "\\pmb{0} &= \\pmb{T}\\pmb{\\beta} + \\pmb{0}\n",
    "\\end{align*}\n",
    "o alternativamente \n",
    "\n",
    "\\begin{align*}\n",
    "\\left( \\begin{matrix}\n",
    "\\pmb{y}\\\\ \\pmb{0} \n",
    "\\end{matrix}\\right)=\n",
    "\\left( \\begin{matrix}\n",
    "\\pmb{X}\\\\ \\pmb{T} \n",
    "\\end{matrix}\\right)\\pmb{\\beta} +\n",
    "\\left( \\begin{matrix}\n",
    "\\pmb{\\epsilon}\\\\ \\pmb{0} \n",
    "\\end{matrix}\\right)\n",
    "\\end{align*}"
   ]
  },
  {
   "cell_type": "markdown",
   "metadata": {},
   "source": [
    "La matriz $\\left( \\begin{matrix}\n",
    "\\pmb{X}\\\\ \\pmb{T} \n",
    "\\end{matrix}\\right)$ es entonces $(n+p-k)\\times p$ dimensional de rango $p$ por lo que $\\left( \\begin{matrix}\n",
    "\\pmb{X}\\\\ \\pmb{T} \n",
    "\\end{matrix}\\right)'\\left( \\begin{matrix}\n",
    "\\pmb{X}\\\\ \\pmb{T} \n",
    "\\end{matrix}\\right)$ es $p\\times p$ dimensional de rnago $p$ y las ecuaiones normales\n",
    "\\begin{align*}\n",
    "\\left( \\begin{matrix}\n",
    "\\pmb{X}\\\\ \\pmb{T} \n",
    "\\end{matrix}\\right)'\\left( \\begin{matrix}\n",
    "\\pmb{X}\\\\ \\pmb{T} \n",
    "\\end{matrix}\\right)\\hat{\\pmb{\\beta}}\n",
    "&=\\left( \\begin{matrix}\n",
    "\\pmb{X}\\\\ \\pmb{T} \n",
    "\\end{matrix}\\right)'\n",
    "\\left( \\begin{matrix}\n",
    "\\pmb{y}\\\\ \\pmb{0} \n",
    "\\end{matrix}\\right)\n",
    "\\end{align*}\n",
    "tienen la solucion única \n",
    "\\begin{align*}\n",
    "\\hat{\\pmb{\\beta}} &=\n",
    "\\left(\n",
    "\\left( \\begin{matrix}\n",
    "\\pmb{X}\\\\ \\pmb{T} \n",
    "\\end{matrix}\\right)'\\left( \\begin{matrix}\n",
    "\\pmb{X}\\\\ \\pmb{T} \n",
    "\\end{matrix}\\right)\n",
    "\\right)^{-1}\n",
    "\\left( \\begin{matrix}\n",
    "\\pmb{X}\\\\ \\pmb{T} \n",
    "\\end{matrix}\\right)'\n",
    "\\left( \\begin{matrix}\n",
    "\\pmb{y}\\\\ \\pmb{0} \n",
    "\\end{matrix}\\right)\n",
    "\\\\ &=\n",
    "\\left(\n",
    "\\left( \\begin{matrix}\n",
    "\\pmb{X}', \\pmb{T}' \n",
    "\\end{matrix}\\right)\\left( \\begin{matrix}\n",
    "\\pmb{X}\\\\ \\pmb{T}\n",
    "\\end{matrix}\\right)\n",
    "\\right)^{-1}\n",
    "\\left( \\begin{matrix}\n",
    "\\pmb{X}', \\pmb{T}' \n",
    "\\end{matrix}\\right)\n",
    "\\left( \\begin{matrix}\n",
    "\\pmb{y}\\\\ \\pmb{0} \n",
    "\\end{matrix}\\right)\n",
    "\\\\  &=\n",
    "\\left(\n",
    "\\pmb{X}' \\pmb{X} + \\pmb{T}' \\pmb{T}\n",
    "\\right)^{-1}\n",
    "\\left( \\pmb{X}'\\pmb{y}, \\pmb{T}'\\pmb{0} \\right)\n",
    "\\\\ &=\n",
    "\\left(\n",
    "\\pmb{X}' \\pmb{X} + \\pmb{T}' \\pmb{T}\n",
    "\\right)^{-1}\n",
    " \\pmb{X}'\\pmb{y}\n",
    "\\end{align*}"
   ]
  },
  {
   "cell_type": "markdown",
   "metadata": {},
   "source": [
    "# Ejercicio de tarea"
   ]
  },
  {
   "cell_type": "markdown",
   "metadata": {},
   "source": [
    "Consideramos el modelo ANOVA \\begin{align*}\n",
    "     y_{i,j} = \\mu + \\tau_i + \\epsilon_{i,j}, \\; \\quad \\quad \\; i=1,2; \\; j=1,2;\n",
    "\\end{align*} escrito en forma matricial como\n",
    "\\begin{align*}\n",
    "\\pmb{y} = \\pmb{X}\\pmb{\\beta} + \\pmb{\\epsilon}\n",
    "= \\left( \\begin{matrix}\n",
    "1 & 1 & 0 \\\\\n",
    "1 & 1 & 0 \\\\\n",
    "1 & 0 & 1 \\\\\n",
    "1 & 0 & 1 \n",
    "\\end{matrix}\\right)\n",
    "\\left( \\begin{matrix}\n",
    "\\mu \\\\ \\tau_1 \\\\ \\tau_2\n",
    "\\end{matrix}\\right)\n",
    "+\n",
    "\\left( \\begin{matrix}\n",
    "\\epsilon_{1,1} \\\\\n",
    "\\epsilon_{1,2} \\\\\n",
    "\\epsilon_{2,1} \\\\\n",
    "\\epsilon_{2,2}\n",
    "\\end{matrix}\\right)\n",
    "\\end{align*}"
   ]
  },
  {
   "cell_type": "markdown",
   "metadata": {},
   "source": [
    "De los estimadores de mínimos cuadrados haciendo uso tanto del método de reparametrización tanto como el de condiciones adicionales, encontrando las matrices $\\pmb{U}$ y $\\pmb{T}$. Intente encontrar reparametrizaciones y condiciones que tengan una interpretación respecto a los parámetros del modelo."
   ]
  },
  {
   "cell_type": "code",
   "execution_count": null,
   "metadata": {},
   "outputs": [],
   "source": []
  }
 ],
 "metadata": {
  "kernelspec": {
   "display_name": "Julia 1.2.0",
   "language": "julia",
   "name": "julia-1.2"
  },
  "language_info": {
   "file_extension": ".jl",
   "mimetype": "application/julia",
   "name": "julia",
   "version": "1.2.0"
  },
  "latex_envs": {
   "LaTeX_envs_menu_present": true,
   "autoclose": false,
   "autocomplete": true,
   "bibliofile": "biblio.bib",
   "cite_by": "apalike",
   "current_citInitial": 1,
   "eqLabelWithNumbers": false,
   "eqNumInitial": 1,
   "hotkeys": {
    "equation": "Ctrl-E",
    "itemize": "Ctrl-I"
   },
   "labels_anchors": false,
   "latex_user_defs": false,
   "report_style_numbering": false,
   "user_envs_cfg": false
  }
 },
 "nbformat": 4,
 "nbformat_minor": 2
}
