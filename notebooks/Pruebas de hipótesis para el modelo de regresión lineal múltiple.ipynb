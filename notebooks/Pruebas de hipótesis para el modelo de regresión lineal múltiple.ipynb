{
 "cells": [
  {
   "cell_type": "markdown",
   "metadata": {},
   "source": [
    "# Pruebas de hipótesis para el modelo de regresión lineal múltiple"
   ]
  },
  {
   "cell_type": "markdown",
   "metadata": {},
   "source": [
    "En esta sección suponemos que $\\pmb{y}\\sim N_n(\\pmb{X}\\pmb{\\beta},\\sigma^2\\pmb{I})$ con $\\pmb{X}$ $n\\times(k+1)$ dimensional de rango $k+1<n$."
   ]
  },
  {
   "cell_type": "markdown",
   "metadata": {},
   "source": [
    "## Prueba de regresión general"
   ]
  },
  {
   "cell_type": "markdown",
   "metadata": {},
   "source": [
    "Empezamos intereándonos en la hipótesis de que ninguno de los covariables $x$ considerados predicen a la variable de interés $y$ en el modelo de regresión lineal múltiple con errores normales. En términos matemáticos esto significa que $\\pmb{\\beta}_1=(\\beta_1, \\beta_2, \\ldots , \\beta_k )'=\\pmb{0}$. Obtenemos la prueba de hipótesis:\n",
    "\n",
    "\\begin{equation*}\n",
    "    H_0\\, : \\, \\pmb{\\beta}_1= \\pmb{0} \\;\\;\\;\\;\\; \\text {v.s.} \\;\\;\\;\\;\\; H_1\\, : \\, \\pmb{\\beta}_1 \\neq \\pmb{0} .\n",
    "\\end{equation*}"
   ]
  },
  {
   "cell_type": "markdown",
   "metadata": {},
   "source": [
    "En las notas correspondientes a las distribuciones no centrales se demostró que "
   ]
  }
 ],
 "metadata": {
  "author": "mes(k+1)",
  "kernelspec": {
   "display_name": "Julia 1.2.0",
   "language": "julia",
   "name": "julia-1.2"
  },
  "language_info": {
   "file_extension": ".jl",
   "mimetype": "application/julia",
   "name": "julia",
   "version": "1.2.0"
  },
  "latex_envs": {
   "LaTeX_envs_menu_present": true,
   "autoclose": false,
   "autocomplete": true,
   "bibliofile": "biblio.bib",
   "cite_by": "apalike",
   "current_citInitial": 1,
   "eqLabelWithNumbers": false,
   "eqNumInitial": 1,
   "hotkeys": {
    "equation": "Ctrl-E",
    "itemize": "Ctrl-I"
   },
   "labels_anchors": false,
   "latex_user_defs": false,
   "report_style_numbering": false,
   "user_envs_cfg": false
  }
 },
 "nbformat": 4,
 "nbformat_minor": 2
}
