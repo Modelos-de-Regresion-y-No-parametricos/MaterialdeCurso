{
 "cells": [
  {
   "cell_type": "markdown",
   "metadata": {},
   "source": [
    "# Prueba binomial"
   ]
  },
  {
   "cell_type": "markdown",
   "metadata": {},
   "source": [
    "Consideramos observaciones provenientes de una distribución binomial $Binom(n,p)$, donde usamos la interpretación de que se realizan $n$ experimentos los cuales pueden ser exitosos o no exitososo siendo $p$ la probabilidad de éxito. Estás observaciones pueden estar dadas por \n",
    "\n",
    "\\begin{equation*}\n",
    "\\pmb{X}=\\left( \\#\\left\\{ \\text{Observaciones exitosas}  \\right\\},\\, \\#\\left\\{ \\text{Observaciones no exitosas}  \\right\\} \\right)\n",
    "\\end{equation*}\n",
    "o bien por\n",
    "\\begin{align*}\n",
    "n = \\#\\left\\{ \\text{Experimentos observados}  \\right\\},\\;\\;\\;\n",
    "X =\\#\\left\\{ \\text{Observaciones exitosas}  \\right\\}\n",
    "\\end{align*}\n"
   ]
  },
  {
   "cell_type": "markdown",
   "metadata": {},
   "source": [
    "Tenemos que $T=\\#\\left\\{ \\text{Observaciones exitosas}  \\right\\}$ es un estadistico suficiente que puede ser utilizado como estadístico de prueba en las siguientes pruebas de hipótesis\n",
    "\n",
    "i) Prueba de dos colas\n",
    "\\begin{equation*}\n",
    " H_0\\, : \\, p = p^\\star \\;\\;\\;\\;\\; \\text {v.s.} \\;\\;\\;\\;\\; H_1\\, : \\, p \\neq p^\\star \n",
    "\\end{equation*}\n",
    "La región de rechazo con tamaño $\\alpha=\\alpha_1+\\alpha_2$, tales que $\\alpha_1\\approx \\frac{\\alpha}{2}\\approx \\alpha_1$ (es decir aproximadamente $\\alpha$ medios), está da por $t_1$, $t_2$ tales que para $Y\\sim \\text{ Binom}(p^\\star,n)$\n",
    "\n",
    "\\begin{equation*}\n",
    "\\prob{Y\\leq t_2} = \\alpha_1\n",
    "\\end{equation*}\n",
    "y\n",
    "\\begin{equation*}\n",
    "\\prob{Y\\leq t_2}=1-\\alpha_2\n",
    "\\end{equation*}\n"
   ]
  },
  {
   "cell_type": "code",
   "execution_count": null,
   "metadata": {},
   "outputs": [],
   "source": []
  }
 ],
 "metadata": {
  "kernelspec": {
   "display_name": "R",
   "language": "R",
   "name": "ir"
  },
  "language_info": {
   "codemirror_mode": "r",
   "file_extension": ".r",
   "mimetype": "text/x-r-source",
   "name": "R",
   "pygments_lexer": "r",
   "version": "3.6.3"
  },
  "latex_envs": {
   "LaTeX_envs_menu_present": true,
   "autoclose": false,
   "autocomplete": true,
   "bibliofile": "biblio.bib",
   "cite_by": "apalike",
   "current_citInitial": 1,
   "eqLabelWithNumbers": false,
   "eqNumInitial": 1,
   "hotkeys": {
    "equation": "Ctrl-E",
    "itemize": "Ctrl-I"
   },
   "labels_anchors": false,
   "latex_user_defs": false,
   "report_style_numbering": false,
   "user_envs_cfg": false
  }
 },
 "nbformat": 4,
 "nbformat_minor": 2
}
